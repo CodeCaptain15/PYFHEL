{
 "cells": [
  {
   "cell_type": "code",
   "execution_count": 1,
   "metadata": {},
   "outputs": [],
   "source": [
    "import numpy as np"
   ]
  },
  {
   "cell_type": "code",
   "execution_count": 2,
   "metadata": {},
   "outputs": [],
   "source": [
    "# Example dataset\n",
    "hours_studied = np.array([1.0, 2.0, 3.0, 4.0, 5.0], dtype=np.float64)  # Feature: Hours studied\n",
    "exam_score = np.array([2.0, 4.0, 6.0, 8.0, 10.0], dtype=np.float64)    # Target: Exam score\n"
   ]
  },
  {
   "cell_type": "code",
   "execution_count": 3,
   "metadata": {},
   "outputs": [],
   "source": [
    "from Pyfhel import Pyfhel"
   ]
  },
  {
   "cell_type": "code",
   "execution_count": 4,
   "metadata": {},
   "outputs": [],
   "source": [
    "# Assuming w = 2 and b = 0 for demonstration\n",
    "arr_x = np.array([2.0], dtype=np.float64) \n",
    "arr_y = np.array([0.0], dtype=np.float64)\n",
    "\n",
    "\n"
   ]
  },
  {
   "cell_type": "code",
   "execution_count": 5,
   "metadata": {},
   "outputs": [
    {
     "name": "stdout",
     "output_type": "stream",
     "text": [
      "\n",
      "B1. CKKS context generation\n",
      "\t<ckks Pyfhel obj at 0x22ba283d570, [pk:Y, sk:Y, rtk:-, rlk:Y, contx(n=16384, t=0, sec=128, qi=[60, 30, 60], scale=1073741824.0, )]>\n"
     ]
    }
   ],
   "source": [
    "# Feel free to change this number!\n",
    "n_mults = 1\n",
    "\n",
    "HE = Pyfhel(key_gen=True, context_params={\n",
    "    'scheme': 'CKKS',\n",
    "    'n': 2**14,         # For CKKS, n/2 values can be encoded in a single ciphertext. \n",
    "    'scale': 2**30,     # Each multiplication grows the final scale\n",
    "    'qi_sizes': [60]+ [30]*n_mults +[60] # Number of bits of each prime in the chain. \n",
    "                        # Intermediate prime sizes should be close to log2(scale).\n",
    "                        # One per multiplication! More/higher qi_sizes means bigger \n",
    "                        #  ciphertexts and slower ops.\n",
    "})\n",
    "HE.relinKeyGen()\n",
    "print(\"\\nB1. CKKS context generation\")\n",
    "print(f\"\\t{HE}\")"
   ]
  },
  {
   "cell_type": "code",
   "execution_count": 6,
   "metadata": {},
   "outputs": [],
   "source": [
    "ctxt_w_enc  = HE.encryptFrac(arr_x)\n",
    "ctxt_b_enc  = HE.encryptFrac(arr_y)\n",
    "\n"
   ]
  },
  {
   "cell_type": "code",
   "execution_count": 7,
   "metadata": {},
   "outputs": [],
   "source": [
    "hours_studied_enc = [HE.encryptFrac(hours_studied)]\n",
    "exam_score_enc = [HE.encryptFrac(exam_score)]\n",
    "\n",
    "\n",
    "\n",
    "\n"
   ]
  },
  {
   "cell_type": "code",
   "execution_count": 8,
   "metadata": {},
   "outputs": [
    {
     "name": "stdout",
     "output_type": "stream",
     "text": [
      "\n",
      "B2. Fixed-point Encoding & Encryption, \n",
      "->\tarr_x  [1. 2. 3. 4. 5.] \n",
      "\t==> ctxt_x  [<Pyfhel Ciphertext at 0x22ba283d800, scheme=ckks, size=2/2, scale_bits=30, mod_level=0>]\n",
      "->\tarr_y  [ 2.  4.  6.  8. 10.] \n",
      "\t==> ctxt_y  [<Pyfhel Ciphertext at 0x22ba283d260, scheme=ckks, size=2/2, scale_bits=30, mod_level=0>]\n"
     ]
    }
   ],
   "source": [
    "print(\"\\nB2. Fixed-point Encoding & Encryption, \")\n",
    "print(\"->\\tarr_x \", hours_studied,'\\n\\t==> ctxt_x ', hours_studied_enc)\n",
    "print(\"->\\tarr_y \", exam_score,'\\n\\t==> ctxt_y ', exam_score_enc)"
   ]
  },
  {
   "cell_type": "code",
   "execution_count": 13,
   "metadata": {},
   "outputs": [
    {
     "name": "stdout",
     "output_type": "stream",
     "text": [
      "Mean Squared Error: 0.0\n",
      "Actual Exam Scores:  [ 2.  4.  6.  8. 10.]\n",
      "Predicted Exam Scores: [ 2.  4.  6.  8. 10.]\n"
     ]
    }
   ],
   "source": [
    "import numpy as np\n",
    "\n",
    "# Dataset\n",
    "hours_studied = np.array([1.0, 2.0, 3.0, 4.0, 5.0])  # Feature: Hours studied\n",
    "exam_score = np.array([2.0, 4.0, 6.0, 8.0, 10.0])    # Target: Exam score\n",
    "# Model coefficients\n",
    "w = 2  # Weight\n",
    "b = 0  # Bias\n",
    "\n",
    "# Predict exam scores based on hours studied\n",
    "exam_score_pred = w * hours_studied + b\n",
    "# Calculate Mean Squared Error\n",
    "mse = np.mean((exam_score - exam_score_pred)**2)\n",
    "print(\"Mean Squared Error:\", mse)\n",
    "print(\"Actual Exam Scores: \", exam_score)\n",
    "print(\"Predicted Exam Scores:\", exam_score_pred)\n",
    "\n"
   ]
  },
  {
   "cell_type": "code",
   "execution_count": 23,
   "metadata": {},
   "outputs": [
    {
     "name": "stdout",
     "output_type": "stream",
     "text": [
      "Performing encrypted prediction with relinearization:\n"
     ]
    },
    {
     "ename": "IndexError",
     "evalue": "list index out of range",
     "output_type": "error",
     "traceback": [
      "\u001b[1;31m---------------------------------------------------------------------------\u001b[0m",
      "\u001b[1;31mIndexError\u001b[0m                                Traceback (most recent call last)",
      "\u001b[1;32md:\\One Drive\\Dinesh Student\\OneDrive - IL State University\\MS Academic\\GA_Projects\\Bakshi\\homomorphic Encrytion\\Test_HE_Pyfhel\\Demo_test_regression.ipynb Cell 10\u001b[0m line \u001b[0;36m1\n\u001b[0;32m      <a href='vscode-notebook-cell:/d%3A/One%20Drive/Dinesh%20Student/OneDrive%20-%20IL%20State%20University/MS%20Academic/GA_Projects/Bakshi/homomorphic%20Encrytion/Test_HE_Pyfhel/Demo_test_regression.ipynb#X15sZmlsZQ%3D%3D?line=4'>5</a>\u001b[0m \u001b[39mprint\u001b[39m(\u001b[39m\"\u001b[39m\u001b[39mPerforming encrypted prediction with relinearization:\u001b[39m\u001b[39m\"\u001b[39m)\n\u001b[0;32m      <a href='vscode-notebook-cell:/d%3A/One%20Drive/Dinesh%20Student/OneDrive%20-%20IL%20State%20University/MS%20Academic/GA_Projects/Bakshi/homomorphic%20Encrytion/Test_HE_Pyfhel/Demo_test_regression.ipynb#X15sZmlsZQ%3D%3D?line=6'>7</a>\u001b[0m \u001b[39m# Encrypted prediction with relinearization after multiplication\u001b[39;00m\n\u001b[0;32m      <a href='vscode-notebook-cell:/d%3A/One%20Drive/Dinesh%20Student/OneDrive%20-%20IL%20State%20University/MS%20Academic/GA_Projects/Bakshi/homomorphic%20Encrytion/Test_HE_Pyfhel/Demo_test_regression.ipynb#X15sZmlsZQ%3D%3D?line=7'>8</a>\u001b[0m \u001b[39m# Note: In a simple linear regression prediction, you typically have one multiplication and one addition\u001b[39;00m\n\u001b[0;32m      <a href='vscode-notebook-cell:/d%3A/One%20Drive/Dinesh%20Student/OneDrive%20-%20IL%20State%20University/MS%20Academic/GA_Projects/Bakshi/homomorphic%20Encrytion/Test_HE_Pyfhel/Demo_test_regression.ipynb#X15sZmlsZQ%3D%3D?line=8'>9</a>\u001b[0m \u001b[39m# For demonstration, let's assume we're applying the weight multiple times in a hypothetical scenario\u001b[39;00m\n\u001b[1;32m---> <a href='vscode-notebook-cell:/d%3A/One%20Drive/Dinesh%20Student/OneDrive%20-%20IL%20State%20University/MS%20Academic/GA_Projects/Bakshi/homomorphic%20Encrytion/Test_HE_Pyfhel/Demo_test_regression.ipynb#X15sZmlsZQ%3D%3D?line=9'>10</a>\u001b[0m ctxt_x \u001b[39m=\u001b[39m hours_studied_enc[\u001b[39m2\u001b[39m]  \u001b[39m# Example: using the first encrypted feature for demonstration\u001b[39;00m\n\u001b[0;32m     <a href='vscode-notebook-cell:/d%3A/One%20Drive/Dinesh%20Student/OneDrive%20-%20IL%20State%20University/MS%20Academic/GA_Projects/Bakshi/homomorphic%20Encrytion/Test_HE_Pyfhel/Demo_test_regression.ipynb#X15sZmlsZQ%3D%3D?line=10'>11</a>\u001b[0m \u001b[39mfor\u001b[39;00m step \u001b[39min\u001b[39;00m \u001b[39mrange\u001b[39m(\u001b[39m1\u001b[39m, n_mults \u001b[39m+\u001b[39m \u001b[39m1\u001b[39m):\n\u001b[0;32m     <a href='vscode-notebook-cell:/d%3A/One%20Drive/Dinesh%20Student/OneDrive%20-%20IL%20State%20University/MS%20Academic/GA_Projects/Bakshi/homomorphic%20Encrytion/Test_HE_Pyfhel/Demo_test_regression.ipynb#X15sZmlsZQ%3D%3D?line=11'>12</a>\u001b[0m     ctxt_x \u001b[39m=\u001b[39m ctxt_x \u001b[39m*\u001b[39m ctxt_w_enc  \u001b[39m# Multiply in-place\u001b[39;00m\n",
      "\u001b[1;31mIndexError\u001b[0m: list index out of range"
     ]
    }
   ],
   "source": [
    "# Function to round and truncate results for display\n",
    "_r = lambda x: np.round(x, decimals=6)\n",
    "\n",
    "# Example of performing multiple operations with relinearization\n",
    "print(\"Performing encrypted prediction with relinearization:\")\n",
    "\n",
    "# Encrypted prediction with relinearization after multiplication\n",
    "# Note: In a simple linear regression prediction, you typically have one multiplication and one addition\n",
    "# For demonstration, let's assume we're applying the weight multiple times in a hypothetical scenario\n",
    "# ctxt_x = hours_studied_enc[2]  # Example: using the first encrypted feature for demonstration\n",
    "\n",
    "for step in range(1, n_mults + 1):\n",
    "    ctxt_x = ctxt_x * ctxt_w_enc  # Multiply in-place\n",
    "    ctxt_x = ~(ctxt_x)  # Relinearize after each multiplication\n",
    "    # Decrypting for demonstration purposes (in practice, you'd keep it encrypted as long as possible)\n",
    "    print(f\"\\tStep {step}: res {_r(HE.decryptFrac(ctxt_x))}\")\n"
   ]
  },
  {
   "cell_type": "code",
   "execution_count": 13,
   "metadata": {},
   "outputs": [
    {
     "name": "stdout",
     "output_type": "stream",
     "text": [
      "Performing encrypted predictions with relinearization for multiple data points:\n",
      "Encrypted prediction (decrypted for demo): [ 2.000001e+00 -3.000000e-06  2.000000e-06 ...  0.000000e+00  0.000000e+00\n",
      " -0.000000e+00]\n"
     ]
    }
   ],
   "source": [
    "# Function to round and truncate results for display\n",
    "_r = lambda x: np.round(x, decimals=6)\n",
    "\n",
    "print(\"Performing encrypted predictions with relinearization for multiple data points:\")\n",
    "\n",
    "# Initialize an empty list to store the encrypted predictions\n",
    "exam_score_pred_enc = []\n",
    "\n",
    "# Iterate over each encrypted hour studied\n",
    "for hour_enc in hours_studied_enc:\n",
    "    # Apply the encrypted weight (ctxt_w_enc) to the encrypted feature (hour_enc)\n",
    "    # and add the encrypted bias (ctxt_b_enc) if necessary\n",
    "    ctxt_pred = hour_enc * ctxt_w_enc  # Encrypted multiplication\n",
    "    ctxt_pred = ~(ctxt_pred)  # Relinearize after multiplication\n",
    "    \n",
    "    # Optionally, add the encrypted bias if your model includes it\n",
    "    # For simplicity, assuming bias (b) is 0 or already included in weight calculation\n",
    "    \n",
    "    # Store the encrypted prediction\n",
    "    exam_score_pred_enc.append(ctxt_pred)\n",
    "\n",
    "    # Decrypting for demonstration purposes (in practice, you'd keep it encrypted as long as possible)\n",
    "    print(f\"Encrypted prediction (decrypted for demo): {_r(HE.decryptFrac(ctxt_pred))}\")\n",
    "\n",
    "# Note: This loop demonstrates applying the linear regression model to each encrypted feature\n",
    "# and includes relinearization after the multiplication operation.\n"
   ]
  }
 ],
 "metadata": {
  "kernelspec": {
   "display_name": "base",
   "language": "python",
   "name": "python3"
  },
  "language_info": {
   "codemirror_mode": {
    "name": "ipython",
    "version": 3
   },
   "file_extension": ".py",
   "mimetype": "text/x-python",
   "name": "python",
   "nbconvert_exporter": "python",
   "pygments_lexer": "ipython3",
   "version": "3.11.4"
  },
  "orig_nbformat": 4
 },
 "nbformat": 4,
 "nbformat_minor": 2
}
